{
 "cells": [
  {
   "cell_type": "code",
   "execution_count": null,
   "id": "4846ff77",
   "metadata": {},
   "outputs": [],
   "source": [
    "!pip install chess\n",
    "import chess\n",
    "import random\n",
    "import chess.polyglot\n"
   ]
  },
  {
   "cell_type": "code",
   "execution_count": null,
   "id": "4cc9ab20",
   "metadata": {},
   "outputs": [],
   "source": [
    "#tabuleiro\n",
    "board = chess.Board()\n",
    "board"
   ]
  },
  {
   "cell_type": "code",
   "execution_count": null,
   "id": "1d72ffe7",
   "metadata": {},
   "outputs": [],
   "source": [
    "def MelhorJogada(board=board):\n",
    "  melhorJogada = \"\"\n",
    "  with chess.polyglot.open_reader(\"bookfish.bin\") as reader:\n",
    "    for entry in reader.find_all(board):\n",
    "      melhorJogada = entry.move\n",
    "      break\n",
    "  if not melhorJogada:\n",
    "    print(\"Não achou jogada\")\n",
    "    melhorJogada = random.sample(list(board.legal_moves), 1)[0]\n",
    "  return melhorJogada"
   ]
  },
  {
   "cell_type": "code",
   "execution_count": null,
   "id": "c6f3b315",
   "metadata": {},
   "outputs": [],
   "source": [
    "def JogadaPonderada(board=board):\n",
    "  jogadas = []\n",
    "  pesos = []\n",
    "  with chess.polyglot.open_reader(\"bookfish.bin\") as reader:\n",
    "    for entry in reader.find_all(board):\n",
    "      jogadas.append(entry.move)\n",
    "      pesos.append(entry.weight)\n",
    "  jogada = random.choices(jogadas, weights=pesos, k=1)\n",
    "  if not jogada:\n",
    "    jogada = random.sample(list(board.legal_moves), 1)[0]\n",
    "  return jogada[0]"
   ]
  },
  {
   "cell_type": "code",
   "execution_count": null,
   "id": "0c799ee6",
   "metadata": {},
   "outputs": [],
   "source": [
    "#EU JOGANDO\n",
    "jogada = JogadaPonderada()\n",
    "board.push(jogada)\n",
    "board"
   ]
  },
  {
   "cell_type": "code",
   "execution_count": null,
   "id": "7e941e67",
   "metadata": {},
   "outputs": [],
   "source": [
    "#OPONENTE\n",
    "move = MelhorJogada()\n",
    "board.push(move)\n",
    "board"
   ]
  },
  {
   "cell_type": "code",
   "execution_count": null,
   "id": "e63b8b3c",
   "metadata": {},
   "outputs": [],
   "source": []
  }
 ],
 "metadata": {
  "kernelspec": {
   "display_name": "Python 3 (ipykernel)",
   "language": "python",
   "name": "python3"
  },
  "language_info": {
   "codemirror_mode": {
    "name": "ipython",
    "version": 3
   },
   "file_extension": ".py",
   "mimetype": "text/x-python",
   "name": "python",
   "nbconvert_exporter": "python",
   "pygments_lexer": "ipython3",
   "version": "3.9.2"
  }
 },
 "nbformat": 4,
 "nbformat_minor": 5
}
